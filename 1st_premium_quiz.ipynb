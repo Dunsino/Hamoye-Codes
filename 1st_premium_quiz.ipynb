{
  "nbformat": 4,
  "nbformat_minor": 0,
  "metadata": {
    "colab": {
      "name": "1st premium quiz.ipynb",
      "provenance": [],
      "collapsed_sections": [],
      "authorship_tag": "ABX9TyOxqc4IoOngEV9y1Tu7gzr2",
      "include_colab_link": true
    },
    "kernelspec": {
      "display_name": "Python 3",
      "name": "python3"
    }
  },
  "cells": [
    {
      "cell_type": "markdown",
      "metadata": {
        "id": "view-in-github",
        "colab_type": "text"
      },
      "source": [
        "<a href=\"https://colab.research.google.com/github/Dunsino/Hamoye-Codes/blob/main/1st_premium_quiz.ipynb\" target=\"_parent\"><img src=\"https://colab.research.google.com/assets/colab-badge.svg\" alt=\"Open In Colab\"/></a>"
      ]
    },
    {
      "cell_type": "code",
      "metadata": {
        "id": "BRAN2C7FQAKf"
      },
      "source": [
        "#Importing the necessary libraries\r\n",
        "import pandas as pd\r\n",
        "import numpy as np\r\n",
        "import seaborn as sns\r\n",
        "import matplotlib.pyplot as plt"
      ],
      "execution_count": 3,
      "outputs": []
    },
    {
      "cell_type": "code",
      "metadata": {
        "id": "a2-2xSLeQsGM"
      },
      "source": [
        "#read in the data\r\n",
        "data = pd.read_csv('https://archive.ics.uci.edu/ml/machine-learning-databases/00374/energydata_complete.csv')"
      ],
      "execution_count": 4,
      "outputs": []
    },
    {
      "cell_type": "code",
      "metadata": {
        "colab": {
          "base_uri": "https://localhost:8080/",
          "height": 391
        },
        "id": "Aw3hjsgERVAT",
        "outputId": "fba43d0e-242d-4836-f795-eba5255c2af8"
      },
      "source": [
        "data.head()"
      ],
      "execution_count": 5,
      "outputs": [
        {
          "output_type": "execute_result",
          "data": {
            "text/html": [
              "<div>\n",
              "<style scoped>\n",
              "    .dataframe tbody tr th:only-of-type {\n",
              "        vertical-align: middle;\n",
              "    }\n",
              "\n",
              "    .dataframe tbody tr th {\n",
              "        vertical-align: top;\n",
              "    }\n",
              "\n",
              "    .dataframe thead th {\n",
              "        text-align: right;\n",
              "    }\n",
              "</style>\n",
              "<table border=\"1\" class=\"dataframe\">\n",
              "  <thead>\n",
              "    <tr style=\"text-align: right;\">\n",
              "      <th></th>\n",
              "      <th>date</th>\n",
              "      <th>Appliances</th>\n",
              "      <th>lights</th>\n",
              "      <th>T1</th>\n",
              "      <th>RH_1</th>\n",
              "      <th>T2</th>\n",
              "      <th>RH_2</th>\n",
              "      <th>T3</th>\n",
              "      <th>RH_3</th>\n",
              "      <th>T4</th>\n",
              "      <th>RH_4</th>\n",
              "      <th>T5</th>\n",
              "      <th>RH_5</th>\n",
              "      <th>T6</th>\n",
              "      <th>RH_6</th>\n",
              "      <th>T7</th>\n",
              "      <th>RH_7</th>\n",
              "      <th>T8</th>\n",
              "      <th>RH_8</th>\n",
              "      <th>T9</th>\n",
              "      <th>RH_9</th>\n",
              "      <th>T_out</th>\n",
              "      <th>Press_mm_hg</th>\n",
              "      <th>RH_out</th>\n",
              "      <th>Windspeed</th>\n",
              "      <th>Visibility</th>\n",
              "      <th>Tdewpoint</th>\n",
              "      <th>rv1</th>\n",
              "      <th>rv2</th>\n",
              "    </tr>\n",
              "  </thead>\n",
              "  <tbody>\n",
              "    <tr>\n",
              "      <th>0</th>\n",
              "      <td>2016-01-11 17:00:00</td>\n",
              "      <td>60</td>\n",
              "      <td>30</td>\n",
              "      <td>19.89</td>\n",
              "      <td>47.596667</td>\n",
              "      <td>19.2</td>\n",
              "      <td>44.790000</td>\n",
              "      <td>19.79</td>\n",
              "      <td>44.730000</td>\n",
              "      <td>19.000000</td>\n",
              "      <td>45.566667</td>\n",
              "      <td>17.166667</td>\n",
              "      <td>55.20</td>\n",
              "      <td>7.026667</td>\n",
              "      <td>84.256667</td>\n",
              "      <td>17.200000</td>\n",
              "      <td>41.626667</td>\n",
              "      <td>18.2</td>\n",
              "      <td>48.900000</td>\n",
              "      <td>17.033333</td>\n",
              "      <td>45.53</td>\n",
              "      <td>6.600000</td>\n",
              "      <td>733.5</td>\n",
              "      <td>92.0</td>\n",
              "      <td>7.000000</td>\n",
              "      <td>63.000000</td>\n",
              "      <td>5.3</td>\n",
              "      <td>13.275433</td>\n",
              "      <td>13.275433</td>\n",
              "    </tr>\n",
              "    <tr>\n",
              "      <th>1</th>\n",
              "      <td>2016-01-11 17:10:00</td>\n",
              "      <td>60</td>\n",
              "      <td>30</td>\n",
              "      <td>19.89</td>\n",
              "      <td>46.693333</td>\n",
              "      <td>19.2</td>\n",
              "      <td>44.722500</td>\n",
              "      <td>19.79</td>\n",
              "      <td>44.790000</td>\n",
              "      <td>19.000000</td>\n",
              "      <td>45.992500</td>\n",
              "      <td>17.166667</td>\n",
              "      <td>55.20</td>\n",
              "      <td>6.833333</td>\n",
              "      <td>84.063333</td>\n",
              "      <td>17.200000</td>\n",
              "      <td>41.560000</td>\n",
              "      <td>18.2</td>\n",
              "      <td>48.863333</td>\n",
              "      <td>17.066667</td>\n",
              "      <td>45.56</td>\n",
              "      <td>6.483333</td>\n",
              "      <td>733.6</td>\n",
              "      <td>92.0</td>\n",
              "      <td>6.666667</td>\n",
              "      <td>59.166667</td>\n",
              "      <td>5.2</td>\n",
              "      <td>18.606195</td>\n",
              "      <td>18.606195</td>\n",
              "    </tr>\n",
              "    <tr>\n",
              "      <th>2</th>\n",
              "      <td>2016-01-11 17:20:00</td>\n",
              "      <td>50</td>\n",
              "      <td>30</td>\n",
              "      <td>19.89</td>\n",
              "      <td>46.300000</td>\n",
              "      <td>19.2</td>\n",
              "      <td>44.626667</td>\n",
              "      <td>19.79</td>\n",
              "      <td>44.933333</td>\n",
              "      <td>18.926667</td>\n",
              "      <td>45.890000</td>\n",
              "      <td>17.166667</td>\n",
              "      <td>55.09</td>\n",
              "      <td>6.560000</td>\n",
              "      <td>83.156667</td>\n",
              "      <td>17.200000</td>\n",
              "      <td>41.433333</td>\n",
              "      <td>18.2</td>\n",
              "      <td>48.730000</td>\n",
              "      <td>17.000000</td>\n",
              "      <td>45.50</td>\n",
              "      <td>6.366667</td>\n",
              "      <td>733.7</td>\n",
              "      <td>92.0</td>\n",
              "      <td>6.333333</td>\n",
              "      <td>55.333333</td>\n",
              "      <td>5.1</td>\n",
              "      <td>28.642668</td>\n",
              "      <td>28.642668</td>\n",
              "    </tr>\n",
              "    <tr>\n",
              "      <th>3</th>\n",
              "      <td>2016-01-11 17:30:00</td>\n",
              "      <td>50</td>\n",
              "      <td>40</td>\n",
              "      <td>19.89</td>\n",
              "      <td>46.066667</td>\n",
              "      <td>19.2</td>\n",
              "      <td>44.590000</td>\n",
              "      <td>19.79</td>\n",
              "      <td>45.000000</td>\n",
              "      <td>18.890000</td>\n",
              "      <td>45.723333</td>\n",
              "      <td>17.166667</td>\n",
              "      <td>55.09</td>\n",
              "      <td>6.433333</td>\n",
              "      <td>83.423333</td>\n",
              "      <td>17.133333</td>\n",
              "      <td>41.290000</td>\n",
              "      <td>18.1</td>\n",
              "      <td>48.590000</td>\n",
              "      <td>17.000000</td>\n",
              "      <td>45.40</td>\n",
              "      <td>6.250000</td>\n",
              "      <td>733.8</td>\n",
              "      <td>92.0</td>\n",
              "      <td>6.000000</td>\n",
              "      <td>51.500000</td>\n",
              "      <td>5.0</td>\n",
              "      <td>45.410389</td>\n",
              "      <td>45.410389</td>\n",
              "    </tr>\n",
              "    <tr>\n",
              "      <th>4</th>\n",
              "      <td>2016-01-11 17:40:00</td>\n",
              "      <td>60</td>\n",
              "      <td>40</td>\n",
              "      <td>19.89</td>\n",
              "      <td>46.333333</td>\n",
              "      <td>19.2</td>\n",
              "      <td>44.530000</td>\n",
              "      <td>19.79</td>\n",
              "      <td>45.000000</td>\n",
              "      <td>18.890000</td>\n",
              "      <td>45.530000</td>\n",
              "      <td>17.200000</td>\n",
              "      <td>55.09</td>\n",
              "      <td>6.366667</td>\n",
              "      <td>84.893333</td>\n",
              "      <td>17.200000</td>\n",
              "      <td>41.230000</td>\n",
              "      <td>18.1</td>\n",
              "      <td>48.590000</td>\n",
              "      <td>17.000000</td>\n",
              "      <td>45.40</td>\n",
              "      <td>6.133333</td>\n",
              "      <td>733.9</td>\n",
              "      <td>92.0</td>\n",
              "      <td>5.666667</td>\n",
              "      <td>47.666667</td>\n",
              "      <td>4.9</td>\n",
              "      <td>10.084097</td>\n",
              "      <td>10.084097</td>\n",
              "    </tr>\n",
              "  </tbody>\n",
              "</table>\n",
              "</div>"
            ],
            "text/plain": [
              "                  date  Appliances  lights  ...  Tdewpoint        rv1        rv2\n",
              "0  2016-01-11 17:00:00          60      30  ...        5.3  13.275433  13.275433\n",
              "1  2016-01-11 17:10:00          60      30  ...        5.2  18.606195  18.606195\n",
              "2  2016-01-11 17:20:00          50      30  ...        5.1  28.642668  28.642668\n",
              "3  2016-01-11 17:30:00          50      40  ...        5.0  45.410389  45.410389\n",
              "4  2016-01-11 17:40:00          60      40  ...        4.9  10.084097  10.084097\n",
              "\n",
              "[5 rows x 29 columns]"
            ]
          },
          "metadata": {
            "tags": []
          },
          "execution_count": 5
        }
      ]
    },
    {
      "cell_type": "code",
      "metadata": {
        "id": "kKZ0FGjtSlRJ"
      },
      "source": [
        "#removing the columns, date and light\r\n",
        "data.drop(['date', 'lights'], axis = 1, inplace = True)"
      ],
      "execution_count": 6,
      "outputs": []
    },
    {
      "cell_type": "code",
      "metadata": {
        "colab": {
          "base_uri": "https://localhost:8080/",
          "height": 218
        },
        "id": "lfhFXVAvUJ_3",
        "outputId": "497ad006-0378-4ba1-e511-1316e6b84d94"
      },
      "source": [
        "data.head()"
      ],
      "execution_count": 7,
      "outputs": [
        {
          "output_type": "execute_result",
          "data": {
            "text/html": [
              "<div>\n",
              "<style scoped>\n",
              "    .dataframe tbody tr th:only-of-type {\n",
              "        vertical-align: middle;\n",
              "    }\n",
              "\n",
              "    .dataframe tbody tr th {\n",
              "        vertical-align: top;\n",
              "    }\n",
              "\n",
              "    .dataframe thead th {\n",
              "        text-align: right;\n",
              "    }\n",
              "</style>\n",
              "<table border=\"1\" class=\"dataframe\">\n",
              "  <thead>\n",
              "    <tr style=\"text-align: right;\">\n",
              "      <th></th>\n",
              "      <th>Appliances</th>\n",
              "      <th>T1</th>\n",
              "      <th>RH_1</th>\n",
              "      <th>T2</th>\n",
              "      <th>RH_2</th>\n",
              "      <th>T3</th>\n",
              "      <th>RH_3</th>\n",
              "      <th>T4</th>\n",
              "      <th>RH_4</th>\n",
              "      <th>T5</th>\n",
              "      <th>RH_5</th>\n",
              "      <th>T6</th>\n",
              "      <th>RH_6</th>\n",
              "      <th>T7</th>\n",
              "      <th>RH_7</th>\n",
              "      <th>T8</th>\n",
              "      <th>RH_8</th>\n",
              "      <th>T9</th>\n",
              "      <th>RH_9</th>\n",
              "      <th>T_out</th>\n",
              "      <th>Press_mm_hg</th>\n",
              "      <th>RH_out</th>\n",
              "      <th>Windspeed</th>\n",
              "      <th>Visibility</th>\n",
              "      <th>Tdewpoint</th>\n",
              "      <th>rv1</th>\n",
              "      <th>rv2</th>\n",
              "    </tr>\n",
              "  </thead>\n",
              "  <tbody>\n",
              "    <tr>\n",
              "      <th>0</th>\n",
              "      <td>60</td>\n",
              "      <td>19.89</td>\n",
              "      <td>47.596667</td>\n",
              "      <td>19.2</td>\n",
              "      <td>44.790000</td>\n",
              "      <td>19.79</td>\n",
              "      <td>44.730000</td>\n",
              "      <td>19.000000</td>\n",
              "      <td>45.566667</td>\n",
              "      <td>17.166667</td>\n",
              "      <td>55.20</td>\n",
              "      <td>7.026667</td>\n",
              "      <td>84.256667</td>\n",
              "      <td>17.200000</td>\n",
              "      <td>41.626667</td>\n",
              "      <td>18.2</td>\n",
              "      <td>48.900000</td>\n",
              "      <td>17.033333</td>\n",
              "      <td>45.53</td>\n",
              "      <td>6.600000</td>\n",
              "      <td>733.5</td>\n",
              "      <td>92.0</td>\n",
              "      <td>7.000000</td>\n",
              "      <td>63.000000</td>\n",
              "      <td>5.3</td>\n",
              "      <td>13.275433</td>\n",
              "      <td>13.275433</td>\n",
              "    </tr>\n",
              "    <tr>\n",
              "      <th>1</th>\n",
              "      <td>60</td>\n",
              "      <td>19.89</td>\n",
              "      <td>46.693333</td>\n",
              "      <td>19.2</td>\n",
              "      <td>44.722500</td>\n",
              "      <td>19.79</td>\n",
              "      <td>44.790000</td>\n",
              "      <td>19.000000</td>\n",
              "      <td>45.992500</td>\n",
              "      <td>17.166667</td>\n",
              "      <td>55.20</td>\n",
              "      <td>6.833333</td>\n",
              "      <td>84.063333</td>\n",
              "      <td>17.200000</td>\n",
              "      <td>41.560000</td>\n",
              "      <td>18.2</td>\n",
              "      <td>48.863333</td>\n",
              "      <td>17.066667</td>\n",
              "      <td>45.56</td>\n",
              "      <td>6.483333</td>\n",
              "      <td>733.6</td>\n",
              "      <td>92.0</td>\n",
              "      <td>6.666667</td>\n",
              "      <td>59.166667</td>\n",
              "      <td>5.2</td>\n",
              "      <td>18.606195</td>\n",
              "      <td>18.606195</td>\n",
              "    </tr>\n",
              "    <tr>\n",
              "      <th>2</th>\n",
              "      <td>50</td>\n",
              "      <td>19.89</td>\n",
              "      <td>46.300000</td>\n",
              "      <td>19.2</td>\n",
              "      <td>44.626667</td>\n",
              "      <td>19.79</td>\n",
              "      <td>44.933333</td>\n",
              "      <td>18.926667</td>\n",
              "      <td>45.890000</td>\n",
              "      <td>17.166667</td>\n",
              "      <td>55.09</td>\n",
              "      <td>6.560000</td>\n",
              "      <td>83.156667</td>\n",
              "      <td>17.200000</td>\n",
              "      <td>41.433333</td>\n",
              "      <td>18.2</td>\n",
              "      <td>48.730000</td>\n",
              "      <td>17.000000</td>\n",
              "      <td>45.50</td>\n",
              "      <td>6.366667</td>\n",
              "      <td>733.7</td>\n",
              "      <td>92.0</td>\n",
              "      <td>6.333333</td>\n",
              "      <td>55.333333</td>\n",
              "      <td>5.1</td>\n",
              "      <td>28.642668</td>\n",
              "      <td>28.642668</td>\n",
              "    </tr>\n",
              "    <tr>\n",
              "      <th>3</th>\n",
              "      <td>50</td>\n",
              "      <td>19.89</td>\n",
              "      <td>46.066667</td>\n",
              "      <td>19.2</td>\n",
              "      <td>44.590000</td>\n",
              "      <td>19.79</td>\n",
              "      <td>45.000000</td>\n",
              "      <td>18.890000</td>\n",
              "      <td>45.723333</td>\n",
              "      <td>17.166667</td>\n",
              "      <td>55.09</td>\n",
              "      <td>6.433333</td>\n",
              "      <td>83.423333</td>\n",
              "      <td>17.133333</td>\n",
              "      <td>41.290000</td>\n",
              "      <td>18.1</td>\n",
              "      <td>48.590000</td>\n",
              "      <td>17.000000</td>\n",
              "      <td>45.40</td>\n",
              "      <td>6.250000</td>\n",
              "      <td>733.8</td>\n",
              "      <td>92.0</td>\n",
              "      <td>6.000000</td>\n",
              "      <td>51.500000</td>\n",
              "      <td>5.0</td>\n",
              "      <td>45.410389</td>\n",
              "      <td>45.410389</td>\n",
              "    </tr>\n",
              "    <tr>\n",
              "      <th>4</th>\n",
              "      <td>60</td>\n",
              "      <td>19.89</td>\n",
              "      <td>46.333333</td>\n",
              "      <td>19.2</td>\n",
              "      <td>44.530000</td>\n",
              "      <td>19.79</td>\n",
              "      <td>45.000000</td>\n",
              "      <td>18.890000</td>\n",
              "      <td>45.530000</td>\n",
              "      <td>17.200000</td>\n",
              "      <td>55.09</td>\n",
              "      <td>6.366667</td>\n",
              "      <td>84.893333</td>\n",
              "      <td>17.200000</td>\n",
              "      <td>41.230000</td>\n",
              "      <td>18.1</td>\n",
              "      <td>48.590000</td>\n",
              "      <td>17.000000</td>\n",
              "      <td>45.40</td>\n",
              "      <td>6.133333</td>\n",
              "      <td>733.9</td>\n",
              "      <td>92.0</td>\n",
              "      <td>5.666667</td>\n",
              "      <td>47.666667</td>\n",
              "      <td>4.9</td>\n",
              "      <td>10.084097</td>\n",
              "      <td>10.084097</td>\n",
              "    </tr>\n",
              "  </tbody>\n",
              "</table>\n",
              "</div>"
            ],
            "text/plain": [
              "   Appliances     T1       RH_1  ...  Tdewpoint        rv1        rv2\n",
              "0          60  19.89  47.596667  ...        5.3  13.275433  13.275433\n",
              "1          60  19.89  46.693333  ...        5.2  18.606195  18.606195\n",
              "2          50  19.89  46.300000  ...        5.1  28.642668  28.642668\n",
              "3          50  19.89  46.066667  ...        5.0  45.410389  45.410389\n",
              "4          60  19.89  46.333333  ...        4.9  10.084097  10.084097\n",
              "\n",
              "[5 rows x 27 columns]"
            ]
          },
          "metadata": {
            "tags": []
          },
          "execution_count": 7
        }
      ]
    },
    {
      "cell_type": "code",
      "metadata": {
        "id": "rWWJUIIBULoE"
      },
      "source": [
        "from sklearn.preprocessing import MinMaxScaler"
      ],
      "execution_count": 8,
      "outputs": []
    },
    {
      "cell_type": "code",
      "metadata": {
        "id": "W8pnNWYvVBwe"
      },
      "source": [
        "scaler = MinMaxScaler()"
      ],
      "execution_count": 9,
      "outputs": []
    },
    {
      "cell_type": "code",
      "metadata": {
        "colab": {
          "base_uri": "https://localhost:8080/",
          "height": 355
        },
        "id": "unJ10Ct1VGBc",
        "outputId": "569aa77a-ed0b-4d2d-9ca6-c16e92e4628c"
      },
      "source": [
        "plt.hist(data.Appliances)"
      ],
      "execution_count": 10,
      "outputs": [
        {
          "output_type": "execute_result",
          "data": {
            "text/plain": [
              "(array([1.6238e+04, 1.7230e+03, 8.3900e+02, 4.9300e+02, 2.1200e+02,\n",
              "        1.3000e+02, 6.9000e+01, 2.4000e+01, 5.0000e+00, 2.0000e+00]),\n",
              " array([  10.,  117.,  224.,  331.,  438.,  545.,  652.,  759.,  866.,\n",
              "         973., 1080.]),\n",
              " <a list of 10 Patch objects>)"
            ]
          },
          "metadata": {
            "tags": []
          },
          "execution_count": 10
        },
        {
          "output_type": "display_data",
          "data": {
            "image/png": "[encoded data removed]",
            "text/plain": [
              "<Figure size 432x288 with 1 Axes>"
            ]
          },
          "metadata": {
            "tags": [],
            "needs_background": "light"
          }
        }
      ]
    },
    {
      "cell_type": "code",
      "metadata": {
        "id": "vu0BFA__2jtd"
      },
      "source": [
        "#importing the stratified shuffle split\r\n",
        "from sklearn.model_selection import train_test_split"
      ],
      "execution_count": 11,
      "outputs": []
    },
    {
      "cell_type": "code",
      "metadata": {
        "id": "qUXaft_sEdXd"
      },
      "source": [
        "columns = data.columns"
      ],
      "execution_count": 19,
      "outputs": []
    },
    {
      "cell_type": "code",
      "metadata": {
        "id": "_Bz-OJh3EpOe"
      },
      "source": [
        "normalised_data = pd.DataFrame(scaler.fit_transform(data), columns = columns)"
      ],
      "execution_count": 20,
      "outputs": []
    },
    {
      "cell_type": "code",
      "metadata": {
        "id": "raphHyILQhVZ"
      },
      "source": [
        ""
      ],
      "execution_count": 14,
      "outputs": []
    },
    {
      "cell_type": "code",
      "metadata": {
        "id": "bYZWtcH3Q_T3"
      },
      "source": [
        "features_data = normalised_data.drop('Appliances', axis=1)"
      ],
      "execution_count": 21,
      "outputs": []
    },
    {
      "cell_type": "code",
      "metadata": {
        "id": "wyy-kvvYUku5"
      },
      "source": [
        "target_data = normalised_data['Appliances']"
      ],
      "execution_count": 22,
      "outputs": []
    },
    {
      "cell_type": "code",
      "metadata": {
        "id": "6_cW-u5fRVtg",
        "colab": {
          "base_uri": "https://localhost:8080/",
          "height": 218
        },
        "outputId": "91fa0fd3-f927-4c05-9bf6-7ffd3f542918"
      },
      "source": [
        "normalised_data.head()"
      ],
      "execution_count": 16,
      "outputs": [
        {
          "output_type": "execute_result",
          "data": {
            "text/html": [
              "<div>\n",
              "<style scoped>\n",
              "    .dataframe tbody tr th:only-of-type {\n",
              "        vertical-align: middle;\n",
              "    }\n",
              "\n",
              "    .dataframe tbody tr th {\n",
              "        vertical-align: top;\n",
              "    }\n",
              "\n",
              "    .dataframe thead th {\n",
              "        text-align: right;\n",
              "    }\n",
              "</style>\n",
              "<table border=\"1\" class=\"dataframe\">\n",
              "  <thead>\n",
              "    <tr style=\"text-align: right;\">\n",
              "      <th></th>\n",
              "      <th>0</th>\n",
              "      <th>1</th>\n",
              "      <th>2</th>\n",
              "      <th>3</th>\n",
              "      <th>4</th>\n",
              "      <th>5</th>\n",
              "      <th>6</th>\n",
              "      <th>7</th>\n",
              "      <th>8</th>\n",
              "      <th>9</th>\n",
              "      <th>10</th>\n",
              "      <th>11</th>\n",
              "      <th>12</th>\n",
              "      <th>13</th>\n",
              "      <th>14</th>\n",
              "      <th>15</th>\n",
              "      <th>16</th>\n",
              "      <th>17</th>\n",
              "      <th>18</th>\n",
              "      <th>19</th>\n",
              "      <th>20</th>\n",
              "      <th>21</th>\n",
              "      <th>22</th>\n",
              "      <th>23</th>\n",
              "      <th>24</th>\n",
              "      <th>25</th>\n",
              "      <th>26</th>\n",
              "    </tr>\n",
              "  </thead>\n",
              "  <tbody>\n",
              "    <tr>\n",
              "      <th>0</th>\n",
              "      <td>0.046729</td>\n",
              "      <td>0.32735</td>\n",
              "      <td>0.566187</td>\n",
              "      <td>0.225345</td>\n",
              "      <td>0.684038</td>\n",
              "      <td>0.215188</td>\n",
              "      <td>0.746066</td>\n",
              "      <td>0.351351</td>\n",
              "      <td>0.764262</td>\n",
              "      <td>0.175506</td>\n",
              "      <td>0.381691</td>\n",
              "      <td>0.381070</td>\n",
              "      <td>0.841827</td>\n",
              "      <td>0.170594</td>\n",
              "      <td>0.653428</td>\n",
              "      <td>0.173329</td>\n",
              "      <td>0.661412</td>\n",
              "      <td>0.223032</td>\n",
              "      <td>0.677290</td>\n",
              "      <td>0.372990</td>\n",
              "      <td>0.097674</td>\n",
              "      <td>0.894737</td>\n",
              "      <td>0.500000</td>\n",
              "      <td>0.953846</td>\n",
              "      <td>0.538462</td>\n",
              "      <td>0.265449</td>\n",
              "      <td>0.265449</td>\n",
              "    </tr>\n",
              "    <tr>\n",
              "      <th>1</th>\n",
              "      <td>0.046729</td>\n",
              "      <td>0.32735</td>\n",
              "      <td>0.541326</td>\n",
              "      <td>0.225345</td>\n",
              "      <td>0.682140</td>\n",
              "      <td>0.215188</td>\n",
              "      <td>0.748871</td>\n",
              "      <td>0.351351</td>\n",
              "      <td>0.782437</td>\n",
              "      <td>0.175506</td>\n",
              "      <td>0.381691</td>\n",
              "      <td>0.375443</td>\n",
              "      <td>0.839872</td>\n",
              "      <td>0.170594</td>\n",
              "      <td>0.651064</td>\n",
              "      <td>0.173329</td>\n",
              "      <td>0.660155</td>\n",
              "      <td>0.226500</td>\n",
              "      <td>0.678532</td>\n",
              "      <td>0.369239</td>\n",
              "      <td>0.100000</td>\n",
              "      <td>0.894737</td>\n",
              "      <td>0.476190</td>\n",
              "      <td>0.894872</td>\n",
              "      <td>0.533937</td>\n",
              "      <td>0.372083</td>\n",
              "      <td>0.372083</td>\n",
              "    </tr>\n",
              "    <tr>\n",
              "      <th>2</th>\n",
              "      <td>0.037383</td>\n",
              "      <td>0.32735</td>\n",
              "      <td>0.530502</td>\n",
              "      <td>0.225345</td>\n",
              "      <td>0.679445</td>\n",
              "      <td>0.215188</td>\n",
              "      <td>0.755569</td>\n",
              "      <td>0.344745</td>\n",
              "      <td>0.778062</td>\n",
              "      <td>0.175506</td>\n",
              "      <td>0.380037</td>\n",
              "      <td>0.367487</td>\n",
              "      <td>0.830704</td>\n",
              "      <td>0.170594</td>\n",
              "      <td>0.646572</td>\n",
              "      <td>0.173329</td>\n",
              "      <td>0.655586</td>\n",
              "      <td>0.219563</td>\n",
              "      <td>0.676049</td>\n",
              "      <td>0.365488</td>\n",
              "      <td>0.102326</td>\n",
              "      <td>0.894737</td>\n",
              "      <td>0.452381</td>\n",
              "      <td>0.835897</td>\n",
              "      <td>0.529412</td>\n",
              "      <td>0.572848</td>\n",
              "      <td>0.572848</td>\n",
              "    </tr>\n",
              "    <tr>\n",
              "      <th>3</th>\n",
              "      <td>0.037383</td>\n",
              "      <td>0.32735</td>\n",
              "      <td>0.524080</td>\n",
              "      <td>0.225345</td>\n",
              "      <td>0.678414</td>\n",
              "      <td>0.215188</td>\n",
              "      <td>0.758685</td>\n",
              "      <td>0.341441</td>\n",
              "      <td>0.770949</td>\n",
              "      <td>0.175506</td>\n",
              "      <td>0.380037</td>\n",
              "      <td>0.363800</td>\n",
              "      <td>0.833401</td>\n",
              "      <td>0.164310</td>\n",
              "      <td>0.641489</td>\n",
              "      <td>0.164175</td>\n",
              "      <td>0.650788</td>\n",
              "      <td>0.219563</td>\n",
              "      <td>0.671909</td>\n",
              "      <td>0.361736</td>\n",
              "      <td>0.104651</td>\n",
              "      <td>0.894737</td>\n",
              "      <td>0.428571</td>\n",
              "      <td>0.776923</td>\n",
              "      <td>0.524887</td>\n",
              "      <td>0.908261</td>\n",
              "      <td>0.908261</td>\n",
              "    </tr>\n",
              "    <tr>\n",
              "      <th>4</th>\n",
              "      <td>0.046729</td>\n",
              "      <td>0.32735</td>\n",
              "      <td>0.531419</td>\n",
              "      <td>0.225345</td>\n",
              "      <td>0.676727</td>\n",
              "      <td>0.215188</td>\n",
              "      <td>0.758685</td>\n",
              "      <td>0.341441</td>\n",
              "      <td>0.762697</td>\n",
              "      <td>0.178691</td>\n",
              "      <td>0.380037</td>\n",
              "      <td>0.361859</td>\n",
              "      <td>0.848264</td>\n",
              "      <td>0.170594</td>\n",
              "      <td>0.639362</td>\n",
              "      <td>0.164175</td>\n",
              "      <td>0.650788</td>\n",
              "      <td>0.219563</td>\n",
              "      <td>0.671909</td>\n",
              "      <td>0.357985</td>\n",
              "      <td>0.106977</td>\n",
              "      <td>0.894737</td>\n",
              "      <td>0.404762</td>\n",
              "      <td>0.717949</td>\n",
              "      <td>0.520362</td>\n",
              "      <td>0.201611</td>\n",
              "      <td>0.201611</td>\n",
              "    </tr>\n",
              "  </tbody>\n",
              "</table>\n",
              "</div>"
            ],
            "text/plain": [
              "         0        1         2   ...        24        25        26\n",
              "0  0.046729  0.32735  0.566187  ...  0.538462  0.265449  0.265449\n",
              "1  0.046729  0.32735  0.541326  ...  0.533937  0.372083  0.372083\n",
              "2  0.037383  0.32735  0.530502  ...  0.529412  0.572848  0.572848\n",
              "3  0.037383  0.32735  0.524080  ...  0.524887  0.908261  0.908261\n",
              "4  0.046729  0.32735  0.531419  ...  0.520362  0.201611  0.201611\n",
              "\n",
              "[5 rows x 27 columns]"
            ]
          },
          "metadata": {
            "tags": []
          },
          "execution_count": 16
        }
      ]
    },
    {
      "cell_type": "code",
      "metadata": {
        "id": "mdy3x8sh-rgV"
      },
      "source": [
        "x_train, x_test, y_train, y_test = train_test_split(features_data, data['Appliances'], test_size = 0.3, random_state = 42)"
      ],
      "execution_count": 23,
      "outputs": []
    },
    {
      "cell_type": "code",
      "metadata": {
        "id": "-AgNvDkdXfkK"
      },
      "source": [
        "from sklearn.linear_model import LinearRegression, Lasso, Ridge\r\n",
        "linear_model = LinearRegression()\r\n",
        "x = columns[3]\r\n",
        "y = columns[11]\r\n",
        "linear_model.fit(x_train, y_train)\r\n",
        "predicted_values = linear_model.predict(x_test)"
      ],
      "execution_count": 63,
      "outputs": []
    },
    {
      "cell_type": "markdown",
      "metadata": {
        "id": "ewyez4rrj0lI"
      },
      "source": [
        ""
      ]
    },
    {
      "cell_type": "code",
      "metadata": {
        "colab": {
          "base_uri": "https://localhost:8080/"
        },
        "id": "xGJPB45maEhk",
        "outputId": "ded82d2f-cbf4-402d-96a4-a7d40d52be73"
      },
      "source": [
        "#MAE\r\n",
        "from sklearn.metrics import mean_absolute_error\r\n",
        "mae = mean_absolute_error(y_test, predicted_values)\r\n",
        "round(mae, 2)"
      ],
      "execution_count": 52,
      "outputs": [
        {
          "output_type": "execute_result",
          "data": {
            "text/plain": [
              "53.64"
            ]
          },
          "metadata": {
            "tags": []
          },
          "execution_count": 52
        }
      ]
    },
    {
      "cell_type": "code",
      "metadata": {
        "colab": {
          "base_uri": "https://localhost:8080/"
        },
        "id": "Ole-PUytiL6J",
        "outputId": "ad1fcb92-4336-4db0-d607-f92a1ce672e9"
      },
      "source": [
        "#RSS\r\n",
        "from sklearn.metrics import mean_squared_error\r\n",
        "mse = mean_squared_error(y_test, predicted_values)\r\n",
        "rmse = np.sqrt(mean_squared_error(y_test, predicted_values))\r\n",
        "round(rmse, 2)"
      ],
      "execution_count": 54,
      "outputs": [
        {
          "output_type": "execute_result",
          "data": {
            "text/plain": [
              "93.64"
            ]
          },
          "metadata": {
            "tags": []
          },
          "execution_count": 54
        }
      ]
    },
    {
      "cell_type": "code",
      "metadata": {
        "id": "gdtUUbEyi1KO"
      },
      "source": [
        "linear_model = Lasso()"
      ],
      "execution_count": 55,
      "outputs": []
    },
    {
      "cell_type": "code",
      "metadata": {
        "colab": {
          "base_uri": "https://localhost:8080/"
        },
        "id": "HnZR3BLzjlZv",
        "outputId": "fe07f932-82c1-44ce-e084-f62200a39805"
      },
      "source": [
        "#Coefficient of determination\r\n",
        "corr_matrix = np.corrcoef(y_test, predicted_values)\r\n",
        "corr = corr_matrix[0,1]\r\n",
        "R_sq = corr**2\r\n",
        "round(R_sq, 2)"
      ],
      "execution_count": 56,
      "outputs": [
        {
          "output_type": "execute_result",
          "data": {
            "text/plain": [
              "0.15"
            ]
          },
          "metadata": {
            "tags": []
          },
          "execution_count": 56
        }
      ]
    },
    {
      "cell_type": "code",
      "metadata": {
        "colab": {
          "base_uri": "https://localhost:8080/"
        },
        "id": "tW2ZSY5BmH5r",
        "outputId": "f5eeff27-ffcf-4131-f362-fe0e6822d30f"
      },
      "source": [
        "#RSS\r\n",
        "rss = np.sum(np.square(y_test - predicted_values))\r\n",
        "round(rss, 2) "
      ],
      "execution_count": 57,
      "outputs": [
        {
          "output_type": "execute_result",
          "data": {
            "text/plain": [
              "51918501.21"
            ]
          },
          "metadata": {
            "tags": []
          },
          "execution_count": 57
        }
      ]
    },
    {
      "cell_type": "code",
      "metadata": {
        "id": "NnJcgA94oTyG"
      },
      "source": [
        "linear_model = Ridge()\r\n",
        "linear_model.fit(x_train, y_train)\r\n",
        "predicted_values = linear_model.predict(x_test)\r\n",
        "#RMSE\r\n"
      ],
      "execution_count": 58,
      "outputs": []
    },
    {
      "cell_type": "code",
      "metadata": {
        "colab": {
          "base_uri": "https://localhost:8080/",
          "height": 225
        },
        "id": "50frd6cOnv5p",
        "outputId": "24939ed0-a477-46af-b637-bd84952bf1de"
      },
      "source": [
        "linear_model = LassoReg()\r\n",
        "linear_model.fit(x_train, y_train)\r\n",
        "predicted_values = linear_model.predict(x_test)\r\n",
        "#RMSE\r\n"
      ],
      "execution_count": 66,
      "outputs": [
        {
          "output_type": "error",
          "ename": "NameError",
          "evalue": "ignored",
          "traceback": [
            "\u001b[0;31m---------------------------------------------------------------------------\u001b[0m",
            "\u001b[0;31mNameError\u001b[0m                                 Traceback (most recent call last)",
            "\u001b[0;32m<ipython-input-66-78bc1c02e550>\u001b[0m in \u001b[0;36m<module>\u001b[0;34m()\u001b[0m\n\u001b[0;32m----> 1\u001b[0;31m \u001b[0mlinear_model\u001b[0m \u001b[0;34m=\u001b[0m \u001b[0mLassoReg\u001b[0m\u001b[0;34m(\u001b[0m\u001b[0;34m)\u001b[0m\u001b[0;34m\u001b[0m\u001b[0;34m\u001b[0m\u001b[0m\n\u001b[0m\u001b[1;32m      2\u001b[0m \u001b[0mlinear_model\u001b[0m\u001b[0;34m.\u001b[0m\u001b[0mfit\u001b[0m\u001b[0;34m(\u001b[0m\u001b[0mx_train\u001b[0m\u001b[0;34m,\u001b[0m \u001b[0my_train\u001b[0m\u001b[0;34m)\u001b[0m\u001b[0;34m\u001b[0m\u001b[0;34m\u001b[0m\u001b[0m\n\u001b[1;32m      3\u001b[0m \u001b[0mpredicted_values\u001b[0m \u001b[0;34m=\u001b[0m \u001b[0mlinear_model\u001b[0m\u001b[0;34m.\u001b[0m\u001b[0mpredict\u001b[0m\u001b[0;34m(\u001b[0m\u001b[0mx_test\u001b[0m\u001b[0;34m)\u001b[0m\u001b[0;34m\u001b[0m\u001b[0;34m\u001b[0m\u001b[0m\n\u001b[1;32m      4\u001b[0m \u001b[0;31m#RMSE\u001b[0m\u001b[0;34m\u001b[0m\u001b[0;34m\u001b[0m\u001b[0;34m\u001b[0m\u001b[0m\n",
            "\u001b[0;31mNameError\u001b[0m: name 'LassoReg' is not defined"
          ]
        }
      ]
    },
    {
      "cell_type": "code",
      "metadata": {
        "colab": {
          "base_uri": "https://localhost:8080/",
          "height": 280
        },
        "id": "3fww5vkMs_Un",
        "outputId": "054663e2-129e-4d38-a2ba-656d0b9944c9"
      },
      "source": [
        "#comparing the effects of regularisation\r\n",
        "def get_weights_df(model, feat, col_name):\r\n",
        "  #this function returns the weight of every feature\r\n",
        "  weights = pd.Series(model.coef_, feat.columns).sort_values()\r\n",
        "  weights_df = pd.DataFrame(weights).reset_index()\r\n",
        "  weights_df.columns = ['Features', col_name]\r\n",
        "  weights_df[col_name].round(3)\r\n",
        "  return weights_df\r\n",
        "\r\n",
        "linear_model_weights = get_weights_df(linear_model, x_train, 'Linear_model_Weight')\r\n",
        "ridge_weights_df = get_weights_df(ridge_reg, x_train, 'Ridge_Weight')\r\n",
        "lasso_weights_df = get_weights_df(lasso_reg, x_train, 'Lasso_weight')\r\n",
        "final_weights = pd.merge(linear_model_weights, ridge_weights_df, on='Features')\r\n",
        "final_weights = pd.merge(final_weights, lasso_weights_df, on='Features')\r\n"
      ],
      "execution_count": 65,
      "outputs": [
        {
          "output_type": "error",
          "ename": "NameError",
          "evalue": "ignored",
          "traceback": [
            "\u001b[0;31m---------------------------------------------------------------------------\u001b[0m",
            "\u001b[0;31mNameError\u001b[0m                                 Traceback (most recent call last)",
            "\u001b[0;32m<ipython-input-65-755b3faef895>\u001b[0m in \u001b[0;36m<module>\u001b[0;34m()\u001b[0m\n\u001b[1;32m      9\u001b[0m \u001b[0;34m\u001b[0m\u001b[0m\n\u001b[1;32m     10\u001b[0m \u001b[0mlinear_model_weights\u001b[0m \u001b[0;34m=\u001b[0m \u001b[0mget_weights_df\u001b[0m\u001b[0;34m(\u001b[0m\u001b[0mlinear_model\u001b[0m\u001b[0;34m,\u001b[0m \u001b[0mx_train\u001b[0m\u001b[0;34m,\u001b[0m \u001b[0;34m'Linear_model_Weight'\u001b[0m\u001b[0;34m)\u001b[0m\u001b[0;34m\u001b[0m\u001b[0;34m\u001b[0m\u001b[0m\n\u001b[0;32m---> 11\u001b[0;31m \u001b[0mridge_weights_df\u001b[0m \u001b[0;34m=\u001b[0m \u001b[0mget_weights_df\u001b[0m\u001b[0;34m(\u001b[0m\u001b[0mridge_reg\u001b[0m\u001b[0;34m,\u001b[0m \u001b[0mx_train\u001b[0m\u001b[0;34m,\u001b[0m \u001b[0;34m'Ridge_Weight'\u001b[0m\u001b[0;34m)\u001b[0m\u001b[0;34m\u001b[0m\u001b[0;34m\u001b[0m\u001b[0m\n\u001b[0m\u001b[1;32m     12\u001b[0m \u001b[0mlasso_weights_df\u001b[0m \u001b[0;34m=\u001b[0m \u001b[0mget_weights_df\u001b[0m\u001b[0;34m(\u001b[0m\u001b[0mlasso_reg\u001b[0m\u001b[0;34m,\u001b[0m \u001b[0mx_train\u001b[0m\u001b[0;34m,\u001b[0m \u001b[0;34m'Lasso_weight'\u001b[0m\u001b[0;34m)\u001b[0m\u001b[0;34m\u001b[0m\u001b[0;34m\u001b[0m\u001b[0m\n\u001b[1;32m     13\u001b[0m \u001b[0mfinal_weights\u001b[0m \u001b[0;34m=\u001b[0m \u001b[0mpd\u001b[0m\u001b[0;34m.\u001b[0m\u001b[0mmerge\u001b[0m\u001b[0;34m(\u001b[0m\u001b[0mlinear_model_weights\u001b[0m\u001b[0;34m,\u001b[0m \u001b[0mridge_weights_df\u001b[0m\u001b[0;34m,\u001b[0m \u001b[0mon\u001b[0m\u001b[0;34m=\u001b[0m\u001b[0;34m'Features'\u001b[0m\u001b[0;34m)\u001b[0m\u001b[0;34m\u001b[0m\u001b[0;34m\u001b[0m\u001b[0m\n",
            "\u001b[0;31mNameError\u001b[0m: name 'ridge_reg' is not defined"
          ]
        }
      ]
    },
    {
      "cell_type": "code",
      "metadata": {
        "id": "1twXZNdUta0X"
      },
      "source": [
        ""
      ],
      "execution_count": null,
      "outputs": []
    }
  ]
}