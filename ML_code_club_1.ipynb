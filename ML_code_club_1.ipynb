{
  "nbformat": 4,
  "nbformat_minor": 0,
  "metadata": {
    "colab": {
      "name": "ML code club 1.ipynb",
      "provenance": [],
      "collapsed_sections": [],
      "authorship_tag": "ABX9TyN1BD/drrAvF+7fRzTjPEW4",
      "include_colab_link": true
    },
    "kernelspec": {
      "display_name": "Python 3",
      "name": "python3"
    }
  },
  "cells": [
    {
      "cell_type": "markdown",
      "metadata": {
        "id": "view-in-github",
        "colab_type": "text"
      },
      "source": [
        "<a href=\"https://colab.research.google.com/github/Dunsino/Hamoye-Codes/blob/main/ML_code_club_1.ipynb\" target=\"_parent\"><img src=\"https://colab.research.google.com/assets/colab-badge.svg\" alt=\"Open In Colab\"/></a>"
      ]
    },
    {
      "cell_type": "code",
      "metadata": {
        "id": "EjJKu0zCGt1X"
      },
      "source": [
        "#importing the necessary libraries\r\n",
        "import pandas as pd\r\n",
        "import numpy as np"
      ],
      "execution_count": null,
      "outputs": []
    },
    {
      "cell_type": "code",
      "metadata": {
        "id": "ejwms5RGEDdx"
      },
      "source": [
        "#reading the cell phones csv data\r\n",
        "cell_phones = pd.read_csv('https://raw.githubusercontent.com/zalihat/cell_phone_dataset/master/cell_phones.csv')"
      ],
      "execution_count": null,
      "outputs": []
    },
    {
      "cell_type": "code",
      "metadata": {
        "id": "MT1b1z5amwcf"
      },
      "source": [
        "#getting the first n rows of the dataframe\r\n",
        "cell_phones.head()"
      ],
      "execution_count": null,
      "outputs": []
    },
    {
      "cell_type": "code",
      "metadata": {
        "id": "9zxytehCnNDW"
      },
      "source": [
        "#getting the last n rows of the dataframe\r\n",
        "cell_phones.tail()"
      ],
      "execution_count": null,
      "outputs": []
    },
    {
      "cell_type": "code",
      "metadata": {
        "id": "wJ9KWXXinad6"
      },
      "source": [
        "#getting the shape of the data\r\n",
        "cell_phones.shape"
      ],
      "execution_count": null,
      "outputs": []
    },
    {
      "cell_type": "code",
      "metadata": {
        "id": "EypeA6M3nswz"
      },
      "source": [
        "#reading the populations csv data\r\n",
        "population = pd.read_csv('https://raw.githubusercontent.com/zalihat/cell_phone_dataset/master/population1.csv')\r\n",
        "population.head()"
      ],
      "execution_count": null,
      "outputs": []
    },
    {
      "cell_type": "code",
      "metadata": {
        "id": "m3eTTlNzmqZm"
      },
      "source": [
        "#read the geo country codes data\r\n",
        "geo_country_code = pd.read_csv('https://raw.githubusercontent.com/open-numbers/ddf--gapminder--systema_globalis/master/ddf--entities--geo--country.csv')\r\n",
        "geo_country_code.head()"
      ],
      "execution_count": null,
      "outputs": []
    },
    {
      "cell_type": "markdown",
      "metadata": {
        "id": "xRTkThUEpRBb"
      },
      "source": [
        "#Part two : Join the data\r\n"
      ]
    },
    {
      "cell_type": "code",
      "metadata": {
        "id": "DB-AH5VPpGl5"
      },
      "source": [
        "print(cell_phones.shape)"
      ],
      "execution_count": null,
      "outputs": []
    },
    {
      "cell_type": "code",
      "metadata": {
        "id": "myF--Wn9pGcH"
      },
      "source": [
        "print(population.shape)"
      ],
      "execution_count": null,
      "outputs": []
    },
    {
      "cell_type": "code",
      "metadata": {
        "id": "aUcrBe_dpGOV"
      },
      "source": [
        "merged_df = population.merge(cell_phones, how = 'inner', on = ['Country', 'year'])\r\n",
        "print(merged_df.shape)\r\n",
        "merged_df.head()"
      ],
      "execution_count": null,
      "outputs": []
    },
    {
      "cell_type": "code",
      "metadata": {
        "id": "viswOSI6izlK"
      },
      "source": [
        "#using the unique function to get the unique function from the list\r\n",
        "merged_df.Country.unique()"
      ],
      "execution_count": null,
      "outputs": []
    },
    {
      "cell_type": "code",
      "metadata": {
        "id": "KpeOofj2jPQ9"
      },
      "source": [
        "#In the geo country codes, rename the columns(country to geo and name to Country)\r\n",
        "geo_country_df = geo_country_code.rename(columns = {'country' : 'geo', 'name' : 'Country'})\r\n",
        "#Output n rows\r\n",
        "geo_country_df.head()"
      ],
      "execution_count": null,
      "outputs": []
    },
    {
      "cell_type": "code",
      "metadata": {
        "id": "yOZS9oX9LUT5"
      },
      "source": [
        "#select the geo and Country columms from the geo_country dataframe\r\n",
        "geo_country_new_df = geo_country_df[['geo', 'Country']]\r\n",
        "geo_country_new_df.head()"
      ],
      "execution_count": null,
      "outputs": []
    },
    {
      "cell_type": "code",
      "metadata": {
        "id": "wgac2Rv9ltJ8"
      },
      "source": [
        "#join with the merged population and cell phones data\r\n",
        "dataset = merged_df.merge(geo_country_new_df, how = 'inner', on = 'Country')\r\n",
        "#shape of dataset\r\n",
        "print('Shape of new merged dataset is {}:'.format(dataset.shape))\r\n",
        "#output few n rows\r\n",
        "dataset.head()"
      ],
      "execution_count": null,
      "outputs": []
    },
    {
      "cell_type": "code",
      "metadata": {
        "id": "Eq3Sy54Wm22Z"
      },
      "source": [
        "#calculate number of cell phones per person/citizen in the United States in 2017\r\n",
        "#New column that has number of cell phones per person\r\n",
        "dataset['cphones_per_person'] = dataset.apply(lambda dataset: dataset['cell_phones_total'] / dataset['population'], axis = 1)\r\n",
        "print(dataset['cphones_per_person'].shape)\r\n",
        "dataset['cphones_per_person'].head()"
      ],
      "execution_count": null,
      "outputs": []
    },
    {
      "cell_type": "code",
      "metadata": {
        "id": "mQPELY1MoPcr"
      },
      "source": [
        "#output few rows n of the new dataframe\r\n",
        "dataset.head()"
      ],
      "execution_count": null,
      "outputs": []
    },
    {
      "cell_type": "code",
      "metadata": {
        "id": "v53Hwujsofd7"
      },
      "source": [
        "dataset['Country'].unique()  #Looking for spelling of United States"
      ],
      "execution_count": null,
      "outputs": []
    },
    {
      "cell_type": "code",
      "metadata": {
        "id": "t_VfIsibpqUx"
      },
      "source": [
        "#Check the year 2017 in United States to confirm that the cphones per person is 1.230769\r\n",
        "dataset.loc[(dataset['year'] == 2017) & (dataset['Country'] == 'United States')]"
      ],
      "execution_count": null,
      "outputs": []
    },
    {
      "cell_type": "code",
      "metadata": {
        "id": "baducfTXqU7h"
      },
      "source": [
        "#iloc(): Access group of rows and columns by integer position(s)\r\n",
        "dataset.iloc[11232:11239:2]"
      ],
      "execution_count": null,
      "outputs": []
    },
    {
      "cell_type": "code",
      "metadata": {
        "id": "kr5iZghBrCXe"
      },
      "source": [
        "#Modify the geo column to make the geo codes upper case instead of lower case\r\n",
        "dataset['geo'] = dataset['geo'].str.upper()\r\n",
        "dataset.head()"
      ],
      "execution_count": null,
      "outputs": []
    },
    {
      "cell_type": "code",
      "metadata": {
        "id": "XSgja7GxreAb"
      },
      "source": [
        "#Process the data\r\n",
        "dataset.describe()"
      ],
      "execution_count": null,
      "outputs": []
    },
    {
      "cell_type": "code",
      "metadata": {
        "id": "VdvKmdpHruTh"
      },
      "source": [
        "dataset.describe(exclude = 'number')"
      ],
      "execution_count": null,
      "outputs": []
    },
    {
      "cell_type": "code",
      "metadata": {
        "id": "6WdEEGQpr6YW"
      },
      "source": [
        "dataset.describe(include = 'object')"
      ],
      "execution_count": null,
      "outputs": []
    },
    {
      "cell_type": "code",
      "metadata": {
        "id": "voHTMi3wsTC0"
      },
      "source": [
        "#In 2017, what were the top 6 countries with the most cell phones total\r\n",
        "#First select the dataframe for year == 2017\r\n",
        "countries_2017 = dataset.loc[(dataset['year'] == 2017)]\r\n",
        "countries_2017.head()"
      ],
      "execution_count": null,
      "outputs": []
    },
    {
      "cell_type": "code",
      "metadata": {
        "id": "7YgwNLgos3fW"
      },
      "source": [
        "#select the columns we are only intereste in which are the countries and cell phones total columns\r\n",
        "countries_2017_new = countries_2017[['Country', 'cell_phones_total']]"
      ],
      "execution_count": null,
      "outputs": []
    },
    {
      "cell_type": "code",
      "metadata": {
        "id": "BXfJvyRhtiyc"
      },
      "source": [
        "#Note to self: The nlargest function retuen the largest values in columns in descending order.\r\n",
        "countries_2017_new.nlargest(5,['cell_phones_total'])"
      ],
      "execution_count": null,
      "outputs": []
    },
    {
      "cell_type": "code",
      "metadata": {
        "id": "gwxIAFt1t0G1"
      },
      "source": [
        "#Using the groupby function\r\n",
        "countries_2017_new = countries_2017.groupby(['Country'])['cell_phones_total'].sum().sort_values(ascending = False)\r\n",
        "countries_2017_new = pd.DataFrame(countries_2017_new)\r\n",
        "countries_2017_new.reset_index().head()"
      ],
      "execution_count": null,
      "outputs": []
    },
    {
      "cell_type": "code",
      "metadata": {
        "id": "Z6f015aTwU_q"
      },
      "source": [
        ""
      ],
      "execution_count": null,
      "outputs": []
    }
  ]
}